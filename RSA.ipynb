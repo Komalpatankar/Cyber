{
  "nbformat": 4,
  "nbformat_minor": 0,
  "metadata": {
    "colab": {
      "provenance": []
    },
    "kernelspec": {
      "name": "python3",
      "display_name": "Python 3"
    },
    "language_info": {
      "name": "python"
    }
  },
  "cells": [
    {
      "cell_type": "markdown",
      "source": [
        "**\n",
        "Write a program to encrypt a message using RSA. Explain the concept of public and private\n",
        "keys.\n",
        "**"
      ],
      "metadata": {
        "id": "fzuNwevguScH"
      }
    },
    {
      "cell_type": "code",
      "execution_count": 1,
      "metadata": {
        "colab": {
          "base_uri": "https://localhost:8080/"
        },
        "id": "KKj8v-HmuQ9t",
        "outputId": "82dd0a4a-2234-4406-9f38-d0e2dc61b783"
      },
      "outputs": [
        {
          "output_type": "stream",
          "name": "stdout",
          "text": [
            "Requirement already satisfied: cryptography in /usr/local/lib/python3.11/dist-packages (43.0.3)\n",
            "Requirement already satisfied: cffi>=1.12 in /usr/local/lib/python3.11/dist-packages (from cryptography) (1.17.1)\n",
            "Requirement already satisfied: pycparser in /usr/local/lib/python3.11/dist-packages (from cffi>=1.12->cryptography) (2.22)\n"
          ]
        }
      ],
      "source": [
        "pip install cryptography\n"
      ]
    },
    {
      "cell_type": "code",
      "source": [
        "from cryptography.hazmat.primitives.asymmetric import rsa, padding\n",
        "from cryptography.hazmat.primitives import serialization, hashes\n",
        "\n",
        "# Step 1: Generate RSA key pair\n",
        "def generate_keys():\n",
        "    private_key = rsa.generate_private_key(\n",
        "        public_exponent=65537,\n",
        "        key_size=2048,\n",
        "    )\n",
        "    public_key = private_key.public_key()\n",
        "    return private_key, public_key\n",
        "\n",
        "# Step 2: Encrypt message with public key\n",
        "def encrypt_message(message, public_key):\n",
        "    encrypted = public_key.encrypt(\n",
        "        message.encode(),\n",
        "        padding.OAEP(\n",
        "            mgf=padding.MGF1(algorithm=hashes.SHA256()),\n",
        "            algorithm=hashes.SHA256(),\n",
        "            label=None\n",
        "        )\n",
        "    )\n",
        "    return encrypted\n",
        "\n",
        "# Step 3: Decrypt message with private key\n",
        "def decrypt_message(encrypted_message, private_key):\n",
        "    decrypted = private_key.decrypt(\n",
        "        encrypted_message,\n",
        "        padding.OAEP(\n",
        "            mgf=padding.MGF1(algorithm=hashes.SHA256()),\n",
        "            algorithm=hashes.SHA256(),\n",
        "            label=None\n",
        "        )\n",
        "    )\n",
        "    return decrypted.decode()\n",
        "\n",
        "# --- Main Program with User Input ---\n",
        "if __name__ == \"__main__\":\n",
        "    # Generate keys\n",
        "    private_key, public_key = generate_keys()\n",
        "\n",
        "    # User input for the message\n",
        "    message = input(\"Enter the message to encrypt: \")\n",
        "\n",
        "    print(\"\\nOriginal Message:\", message)\n",
        "\n",
        "    # Encrypt message\n",
        "    encrypted = encrypt_message(message, public_key)\n",
        "    print(\"\\nEncrypted (bytes):\", encrypted)\n",
        "\n",
        "    # Decrypt message\n",
        "    decrypted = decrypt_message(encrypted, private_key)\n",
        "    print(\"\\nDecrypted Message:\", decrypted)\n"
      ],
      "metadata": {
        "colab": {
          "base_uri": "https://localhost:8080/"
        },
        "id": "NIFCywNIuaHU",
        "outputId": "978bcc1e-35d2-4fca-8e36-8e79701833c3"
      },
      "execution_count": 3,
      "outputs": [
        {
          "output_type": "stream",
          "name": "stdout",
          "text": [
            "Enter the message to encrypt: hide the text from user\n",
            "\n",
            "Original Message: hide the text from user\n",
            "\n",
            "Encrypted (bytes): b\"\\x17C(w\\xccR.\\x06Q\\xb1\\x81\\xad\\xb0\\x05y\\x1cR\\x82\\xbc\\x11\\xa6&\\xe5}\\x9f.]\\x8e)!\\x85\\xc4b<\\x96\\x88\\xfb9[\\xb9\\xb4+x\\x0f\\xe1k\\xfcs4\\x07\\xfd\\xd1\\x08\\x19,U\\xbc\\x80[\\x91\\x9c$\\xe7d\\xc8\\xb5j\\r\\x07B\\x97\\x7fj6\\xe5\\x07\\xca\\xa2\\xe6T%4]\\x9e\\xb8'tot\\x10\\xe27\\xd4^\\xe6L\\x9f\\xcdW\\xb7\\x9f\\x0e</~V\\xf0\\x8e\\x02S\\xf7\\xb1@\\x0f\\xd90\\xf5x\\xe6=\\xd3>=$\\xbf7{\\xec\\xf0P\\xa8\\xbc_-\\x12\\xc20\\x12\\xd6\\x06d\\x14\\x86\\x06\\xae\\xa5a\\xef\\x05\\x14\\xc5\\xc4\\xd5W\\xcf\\xb3*6*\\x13H\\xf3\\x93GH\\x02\\x89\\xeb\\x9ci\\xcb\\x0f\\r\\xd3F\\xe8\\x08\\x91|\\x07\\tt\\x0b3\\xf90\\x1c\\x8d\\x8f\\xbc\\xf1\\x9fX\\xdf\\xcc\\x04\\xf1\\xc5V\\xa3\\xde\\xe6\\x92Dp\\xed_\\xa8D\\xfd\\xb5\\xa7\\xb01\\x10\\xfb\\x84\\x13\\x81\\x02\\x97\\x83\\x12\\x07G\\xc9\\x15\\xd2[\\xfc\\x06=\\x0f-MM\\xdcC\\x1d\\x0f\\r\\x88\\xed\\x8a\\xb8\\x84Q\\x9a\\x14\\x9eJ\\xa4\\x81GX\\xa1\"\n",
            "\n",
            "Decrypted Message: hide the text from user\n"
          ]
        }
      ]
    }
  ]
}