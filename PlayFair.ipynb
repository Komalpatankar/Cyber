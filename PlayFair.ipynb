{
  "nbformat": 4,
  "nbformat_minor": 0,
  "metadata": {
    "colab": {
      "provenance": []
    },
    "kernelspec": {
      "name": "python3",
      "display_name": "Python 3"
    },
    "language_info": {
      "name": "python"
    }
  },
  "cells": [
    {
      "cell_type": "markdown",
      "source": [
        "**Write a program to encrypt and decrypt text using the Play fair Cipher.**"
      ],
      "metadata": {
        "id": "kypz_tmouoTR"
      }
    },
    {
      "cell_type": "code",
      "execution_count": 2,
      "metadata": {
        "colab": {
          "base_uri": "https://localhost:8080/"
        },
        "id": "C24AbfYtumyn",
        "outputId": "be535312-d55e-43f1-eace-d9b22985849e"
      },
      "outputs": [
        {
          "output_type": "stream",
          "name": "stdout",
          "text": [
            "Enter the keyword for Playfair cipher: keyword\n",
            "\n",
            "5x5 Playfair Matrix:\n",
            "K E Y W O\n",
            "R D A B C\n",
            "F G H I L\n",
            "M N P Q S\n",
            "T U V X Z\n",
            "\n",
            "Type 'E' to Encrypt or 'D' to Decrypt: e\n",
            "Enter the message to encrypt: komal patankar\n",
            "Encrypted Message: EKPRHSRVDPYRBT\n"
          ]
        }
      ],
      "source": [
        "def generate_matrix(key):\n",
        "    key = key.upper().replace(\"J\", \"I\")\n",
        "    matrix = []\n",
        "    used = set()\n",
        "\n",
        "    for char in key:\n",
        "        if char not in used and char.isalpha():\n",
        "            matrix.append(char)\n",
        "            used.add(char)\n",
        "\n",
        "    for char in \"ABCDEFGHIKLMNOPQRSTUVWXYZ\":\n",
        "        if char not in used:\n",
        "            matrix.append(char)\n",
        "\n",
        "    return [matrix[i*5:(i+1)*5] for i in range(5)]\n",
        "\n",
        "def find_position(matrix, char):\n",
        "    for row in range(5):\n",
        "        for col in range(5):\n",
        "            if matrix[row][col] == char:\n",
        "                return row, col\n",
        "    return None, None\n",
        "\n",
        "def prepare_text(text, encrypting=True):\n",
        "    text = text.upper().replace(\"J\", \"I\").replace(\" \", \"\")\n",
        "    if not encrypting:\n",
        "        return text\n",
        "    prepared = \"\"\n",
        "    i = 0\n",
        "    while i < len(text):\n",
        "        a = text[i]\n",
        "        b = text[i+1] if i+1 < len(text) else 'X'\n",
        "        if a == b:\n",
        "            prepared += a + 'X'\n",
        "            i += 1\n",
        "        else:\n",
        "            prepared += a + b\n",
        "            i += 2\n",
        "    if len(prepared) % 2 != 0:\n",
        "        prepared += 'X'\n",
        "    return prepared\n",
        "\n",
        "def encrypt(text, matrix):\n",
        "    text = prepare_text(text)\n",
        "    ciphertext = \"\"\n",
        "    for i in range(0, len(text), 2):\n",
        "        a, b = text[i], text[i+1]\n",
        "        r1, c1 = find_position(matrix, a)\n",
        "        r2, c2 = find_position(matrix, b)\n",
        "\n",
        "        if r1 == r2:\n",
        "            ciphertext += matrix[r1][(c1 + 1) % 5]\n",
        "            ciphertext += matrix[r2][(c2 + 1) % 5]\n",
        "        elif c1 == c2:\n",
        "            ciphertext += matrix[(r1 + 1) % 5][c1]\n",
        "            ciphertext += matrix[(r2 + 1) % 5][c2]\n",
        "        else:\n",
        "            ciphertext += matrix[r1][c2]\n",
        "            ciphertext += matrix[r2][c1]\n",
        "    return ciphertext\n",
        "\n",
        "def decrypt(ciphertext, matrix):\n",
        "    ciphertext = prepare_text(ciphertext, encrypting=False)\n",
        "    plaintext = \"\"\n",
        "    for i in range(0, len(ciphertext), 2):\n",
        "        a, b = ciphertext[i], ciphertext[i+1]\n",
        "        r1, c1 = find_position(matrix, a)\n",
        "        r2, c2 = find_position(matrix, b)\n",
        "\n",
        "        if r1 == r2:\n",
        "            plaintext += matrix[r1][(c1 - 1) % 5]\n",
        "            plaintext += matrix[r2][(c2 - 1) % 5]\n",
        "        elif c1 == c2:\n",
        "            plaintext += matrix[(r1 - 1) % 5][c1]\n",
        "            plaintext += matrix[(r2 - 1) % 5][c2]\n",
        "        else:\n",
        "            plaintext += matrix[r1][c2]\n",
        "            plaintext += matrix[r2][c1]\n",
        "    return plaintext\n",
        "\n",
        "# --- Main Program with User Input ---\n",
        "if __name__ == \"__main__\":\n",
        "    key = input(\"Enter the keyword for Playfair cipher: \")\n",
        "    matrix = generate_matrix(key)\n",
        "\n",
        "    print(\"\\n5x5 Playfair Matrix:\")\n",
        "    for row in matrix:\n",
        "        print(\" \".join(row))\n",
        "\n",
        "    choice = input(\"\\nType 'E' to Encrypt or 'D' to Decrypt: \").strip().upper()\n",
        "    if choice == 'E':\n",
        "        message = input(\"Enter the message to encrypt: \")\n",
        "        encrypted = encrypt(message, matrix)\n",
        "        print(\"Encrypted Message:\", encrypted)\n",
        "    elif choice == 'D':\n",
        "        cipher = input(\"Enter the ciphertext to decrypt: \")\n",
        "        decrypted = decrypt(cipher, matrix)\n",
        "        print(\"Decrypted Message:\", decrypted)\n",
        "    else:\n",
        "        print(\"Invalid choice. Please enter 'E' or 'D'.\")\n"
      ]
    }
  ]
}