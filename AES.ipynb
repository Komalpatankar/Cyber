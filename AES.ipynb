{
  "nbformat": 4,
  "nbformat_minor": 0,
  "metadata": {
    "colab": {
      "provenance": []
    },
    "kernelspec": {
      "name": "python3",
      "display_name": "Python 3"
    },
    "language_info": {
      "name": "python"
    }
  },
  "cells": [
    {
      "cell_type": "markdown",
      "source": [
        "\n",
        "**Write a program to encrypt and decrypt text using the AES algorithm.\n",
        "**"
      ],
      "metadata": {
        "id": "hXyY9EcCuA5L"
      }
    },
    {
      "cell_type": "code",
      "execution_count": null,
      "metadata": {
        "colab": {
          "base_uri": "https://localhost:8080/"
        },
        "id": "MkVL28RT5abA",
        "outputId": "bf4cc1a0-0228-4528-c0d0-5cae0f5eb1ce"
      },
      "outputs": [
        {
          "output_type": "stream",
          "name": "stdout",
          "text": [
            "Requirement already satisfied: pycryptodome in /usr/local/lib/python3.11/dist-packages (3.21.0)\n",
            "Enter the text to encrypt: hellllllllllo komal patankar here..............\n",
            "Encrypted: FTLdfSQJtePh8UzhwFksP4qI9/gjjJcB3BdAPJaPmgdgQktQnFSKKjOq01lzDAPKHyralJhz5CSppM80bPGhhg==\n",
            "Decrypted: hellllllllllo komal patankar here..............\n"
          ]
        }
      ],
      "source": [
        "!pip install pycryptodome # Install the pycryptodome package\n",
        "\n",
        "from Crypto.Cipher import AES\n",
        "from Crypto.Util.Padding import pad, unpad\n",
        "from Crypto.Random import get_random_bytes\n",
        "import base64\n",
        "\n",
        "def encrypt(text, key):\n",
        "    \"\"\"\n",
        "    Encrypts the given text using AES encryption in CBC mode.\n",
        "    :param text: The plaintext to encrypt.\n",
        "    :param key: The AES key (16 bytes for AES-128).\n",
        "    :return: Base64 encoded encrypted text including IV.\n",
        "    \"\"\"\n",
        "    cipher = AES.new(key, AES.MODE_CBC)  # Create AES cipher with CBC mode\n",
        "    ciphertext = cipher.encrypt(pad(text.encode(), AES.block_size))\n",
        "    return base64.b64encode(cipher.iv + ciphertext).decode()  # Encode IV + ciphertext\n",
        "\n",
        "def decrypt(enc_text, key):\n",
        "    \"\"\"\n",
        "    Decrypts the given encrypted text using AES decryption in CBC mode.\n",
        "    :param enc_text: The Base64 encoded encrypted text.\n",
        "    :param key: The AES key used for encryption.\n",
        "    :return: The decrypted plaintext.\n",
        "    \"\"\"\n",
        "    enc_text = base64.b64decode(enc_text)\n",
        "    iv = enc_text[:AES.block_size]  # Extract IV\n",
        "    ciphertext = enc_text[AES.block_size:]\n",
        "    cipher = AES.new(key, AES.MODE_CBC, iv)\n",
        "    return unpad(cipher.decrypt(ciphertext), AES.block_size).decode()\n",
        "\n",
        "# Get input from the user\n",
        "txt = input(\"Enter the text to encrypt: \")\n",
        "\n",
        "# Example usage\n",
        "key = get_random_bytes(16)  # Generate a 16-byte key for AES-128\n",
        "\n",
        "encrypted_text = encrypt(txt, key)\n",
        "print(\"Encrypted:\", encrypted_text)\n",
        "\n",
        "decrypted_text = decrypt(encrypted_text, key)\n",
        "print(\"Decrypted:\", decrypted_text)"
      ]
    }
  ]
}